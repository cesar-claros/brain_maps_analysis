{
  "nbformat": 4,
  "nbformat_minor": 0,
  "metadata": {
    "accelerator": "GPU",
    "colab": {
      "name": "Multi_maps_CV.ipynb",
      "provenance": [],
      "collapsed_sections": []
    },
    "kernelspec": {
      "display_name": "Python 3",
      "name": "python3"
    },
    "language_info": {
      "name": "python"
    }
  },
  "cells": [
    {
      "cell_type": "code",
      "metadata": {
        "colab": {
          "base_uri": "https://localhost:8080/"
        },
        "id": "wWTOAL5x5SP2",
        "outputId": "9b92ba23-35cf-47e6-8994-60c7cbe666ba"
      },
      "source": [
        "from google.colab import drive\n",
        "drive.mount('/content/drive/')"
      ],
      "execution_count": 1,
      "outputs": [
        {
          "output_type": "stream",
          "name": "stdout",
          "text": [
            "Mounted at /content/drive/\n"
          ]
        }
      ]
    },
    {
      "cell_type": "code",
      "metadata": {
        "id": "domk3uP06BIV"
      },
      "source": [
        "!mkdir volume_maps/\n",
        "!mkdir stiffness_maps/\n",
        "!mkdir splits/\n",
        "!cp -r drive/Shareddrives/'Brain Voxels'/'Final Data Used for Paper'/Volume_FINAL/. volume_maps/\n",
        "!cp -r drive/Shareddrives/'Brain Voxels'/'Final Data Used for Paper'/Stiffness_FINAL/. stiffness_maps/\n",
        "!cp -r drive/Shareddrives/'Brain Voxels'/splits/. splits/\n",
        "!cp -r drive/Shareddrives/'Brain Voxels'/labels_final.csv ."
      ],
      "execution_count": null,
      "outputs": []
    },
    {
      "cell_type": "code",
      "metadata": {
        "colab": {
          "base_uri": "https://localhost:8080/"
        },
        "id": "mtcB_EZwAeV6",
        "outputId": "5eccad62-4156-443d-80ad-912a53e54e10"
      },
      "source": [
        "!pip install keras-hypetune"
      ],
      "execution_count": 5,
      "outputs": [
        {
          "output_type": "stream",
          "name": "stdout",
          "text": [
            "Collecting keras-hypetune\n",
            "  Downloading keras_hypetune-0.1.3-py3-none-any.whl (10 kB)\n",
            "Requirement already satisfied: numpy in /usr/local/lib/python3.7/dist-packages (from keras-hypetune) (1.19.5)\n",
            "Installing collected packages: keras-hypetune\n",
            "Successfully installed keras-hypetune-0.1.3\n"
          ]
        }
      ]
    },
    {
      "cell_type": "code",
      "metadata": {
        "id": "uwIQ8rVcGzBy"
      },
      "source": [
        "import nibabel as nib\n",
        "import tensorflow as tf\n",
        "from tensorflow.keras import layers\n",
        "import pathlib\n",
        "from scipy.interpolate import RegularGridInterpolator\n",
        "from tensorflow.keras.callbacks import Callback\n",
        "from tensorflow.keras.wrappers.scikit_learn import KerasRegressor\n",
        "from sklearn.model_selection import RandomizedSearchCV\n",
        "from sklearn.model_selection import KFold\n",
        "from sklearn.preprocessing import OneHotEncoder\n",
        "from keras.utils.vis_utils import plot_model\n",
        "from sklearn.metrics import mean_absolute_error as mae\n",
        "from numpy.random import seed\n",
        "import os\n",
        "import pandas as pd\n",
        "import sklearn\n",
        "import sklearn.model_selection\n",
        "import numpy as np\n",
        "import matplotlib.pyplot as plt\n",
        "import random\n",
        "from kerashypetune import KerasRandomSearchCV"
      ],
      "execution_count": 6,
      "outputs": []
    },
    {
      "cell_type": "code",
      "metadata": {
        "colab": {
          "base_uri": "https://localhost:8080/"
        },
        "id": "ZLzWJ2cDbgLC",
        "outputId": "3c1ba869-1b45-46a5-b6d9-da93068bd401"
      },
      "source": [
        "tf.config.list_physical_devices('GPU')"
      ],
      "execution_count": 7,
      "outputs": [
        {
          "output_type": "execute_result",
          "data": {
            "text/plain": [
              "[PhysicalDevice(name='/physical_device:GPU:0', device_type='GPU')]"
            ]
          },
          "metadata": {},
          "execution_count": 7
        }
      ]
    },
    {
      "cell_type": "code",
      "metadata": {
        "id": "_wbtsm9A9SS0"
      },
      "source": [
        "train_id = pd.read_csv('splits/train_split.csv', delimiter=',', header=None).to_numpy().squeeze()\n",
        "val_id = pd.read_csv('splits/val_split.csv', delimiter=',', header=None).to_numpy().squeeze()\n",
        "test_id = pd.read_csv('splits/test_split.csv', delimiter=',', header=None).to_numpy().squeeze()"
      ],
      "execution_count": 45,
      "outputs": []
    },
    {
      "cell_type": "code",
      "metadata": {
        "id": "fsXaWQxHxJj7"
      },
      "source": [
        "def common_path(arr, pos='prefix'):\n",
        "    # The longest common prefix of an empty array is \"\".\n",
        "    if not arr:\n",
        "        print(\"Longest common\", pos, \":\", \"\")\n",
        "    # The longest common prefix of an array containing \n",
        "    # only one element is that element itself.\n",
        "    elif len(arr) == 1:\n",
        "        print(\"Longest common\", pos, \":\", str(arr[0]))\n",
        "    else:\n",
        "        dir = range(len(arr[0])) if pos==\"prefix\" else range(-1,-len(arr[0])+1,-1)\n",
        "        # Sort the array\n",
        "        arr.sort()\n",
        "        result = \"\"\n",
        "        # Compare the first and the last string character\n",
        "        # by character.\n",
        "        for i in dir:\n",
        "            #  If the characters match, append the character to\n",
        "            #  the result.\n",
        "            if arr[0][i] == arr[-1][i]:\n",
        "                result += arr[0][i]\n",
        "            # Else, stop the comparison\n",
        "            else:\n",
        "                break\n",
        "    if pos==\"suffix\":\n",
        "        result = result[::-1]\n",
        "    print(\"Longest common\", pos, \":\", result)\n",
        "    return result"
      ],
      "execution_count": 9,
      "outputs": []
    },
    {
      "cell_type": "code",
      "metadata": {
        "id": "coo0wtFSW47F"
      },
      "source": [
        "def read_files(data_folder_path, label_folder_path, set_id, only_map=False):\n",
        "    labels = pd.read_csv(label_folder_path+'labels_final.csv')\n",
        "    labels_list = []\n",
        "    map_list = []\n",
        "    sex_list = []\n",
        "    study_list = []\n",
        "    meta_list = []\n",
        "    for root, dirs, files in os.walk(data_folder_path):\n",
        "        common_prefix = common_path(files, pos=\"prefix\")\n",
        "        common_suffix = common_path(files, pos=\"suffix\")\n",
        "        for id in set_id:\n",
        "            age =  labels.loc[labels[\"ID\"] == id,'Age'].to_numpy()[0]\n",
        "            sex =  labels.loc[labels[\"ID\"] == id,'Antipodal_Sex'].to_numpy()[0]\n",
        "            study = labels.loc[labels[\"ID\"] == id,'Study_ID'].to_numpy()[0]\n",
        "            filename = common_prefix + str(id) + common_suffix\n",
        "            try:\n",
        "                nib_raw = nib.load(data_folder_path + filename)\n",
        "            except FileNotFoundError:\n",
        "                filename = common_prefix + \"{:0>3d}\".format(id) + common_suffix\n",
        "                try:\n",
        "                    nib_raw = nib.load(data_folder_path + filename)\n",
        "                except FileNotFoundError:\n",
        "                    print(id)\n",
        "                    continue\n",
        "            meta = nib_raw.header\n",
        "            map = nib_raw.get_fdata()[:,:,:]\n",
        "            labels_list.append(age)\n",
        "            sex_list.append(sex)\n",
        "            map_list.append(map)\n",
        "            study_list.append(study)\n",
        "            meta_list.append(meta)\n",
        "    X_map = np.array(map_list).astype(np.float32)\n",
        "    X_sex = np.array(sex_list)\n",
        "    X_study = np.array(study_list)\n",
        "    y = np.array(labels_list).astype(np.float32)\n",
        "    m = np.array(meta_list)\n",
        "    if only_map:\n",
        "        output = X_map\n",
        "    else:\n",
        "        output = (X_map, X_sex, X_study, y, m)\n",
        "    return output"
      ],
      "execution_count": 43,
      "outputs": []
    },
    {
      "cell_type": "code",
      "metadata": {
        "id": "t-rLQPqQYDjT"
      },
      "source": [
        "def preprocess(X_train, X_test, preproc_type='std'):\n",
        "    X_train_pp, X_test_pp = np.zeros_like(X_train), np.zeros_like(X_test)\n",
        "    if preproc_type == 'scaling':\n",
        "        X_train_pp = np.nan_to_num(X_train,nan=-750)/10000\n",
        "        X_test_pp = np.nan_to_num(X_test,nan=-750)/10000\n",
        "\n",
        "    elif preproc_type == 'std':\n",
        "        mu = np.nanmean(X_train)\n",
        "        sigma = np.nanstd(X_train)\n",
        "        X_train_pp = (X_train-mu)/sigma\n",
        "        mu_adj = np.nanmean(X_train_pp)\n",
        "        X_train_pp[np.isnan(X_train_pp)] = mu_adj\n",
        "\n",
        "        X_test_pp = (X_test-mu)/sigma\n",
        "        X_test_pp[np.isnan(X_test_pp)] = mu_adj\n",
        "\n",
        "    elif preproc_type == 'max-min':\n",
        "        delta = np.nanmax(X_train)-np.nanmin(X_train)\n",
        "        min = np.nanmin(X_train)\n",
        "        X_train_pp = (X_train-min)/delta\n",
        "        mu_adj = np.nanmin(X_train_pp) #?\n",
        "        X_train_pp[np.isnan(X_train_pp)] = mu_adj\n",
        "\n",
        "        X_test_pp = (X_test-min)/delta\n",
        "        X_test_pp[np.isnan(X_test_pp)] = mu_adj\n",
        "\n",
        "    return X_train_pp, X_test_pp\n"
      ],
      "execution_count": 11,
      "outputs": []
    },
    {
      "cell_type": "code",
      "metadata": {
        "id": "FdY1jN1oxcZZ"
      },
      "source": [
        "def make_model(param):\n",
        "    # Add categorical input type \n",
        "    if param['cat_input_type'] == 'None':\n",
        "        condition = lambda x: x*np.zeros(10)\n",
        "        # condition = lambda x: x*0\n",
        "    elif param['cat_input_type'] == 'sex':\n",
        "        condition = lambda x: x*np.concatenate((np.ones(2),np.zeros(8)))\n",
        "        # condition = lambda x: x[:,:2]\n",
        "    elif param['cat_input_type'] == 'study':\n",
        "        condition = lambda x: x*np.concatenate((np.zeros(2),np.ones(8)))\n",
        "        # condition = lambda x: x[:,2:]\n",
        "    elif param['cat_input_type'] == 'sex_study':\n",
        "        # mask = np.ones(10)\n",
        "        # condition = lambda x: x\n",
        "        condition = lambda x: x\n",
        "    else:\n",
        "        raise Exception('Categorical input type selected is undefined')\n",
        "\n",
        "    initializer = lambda n_chan: tf.keras.initializers.he_normal()\n",
        "    n_chan = 8\n",
        "\n",
        "    # n-Maps definition\n",
        "    map_models = dict()\n",
        "    models_outputs = []\n",
        "    models_inputs = []\n",
        "    for k in range(param['n_maps']):\n",
        "        map_models[str(k)] = tf.keras.Sequential()\n",
        "        map_models[str(k)].add(tf.keras.Input(shape=(91,109,55)))\n",
        "        map_models[str(k)].add(layers.Reshape((91,109,55,1)))\n",
        "        models_inputs.append(map_models[str(k)].input)\n",
        "        models_outputs.append(map_models[str(k)].output)\n",
        "\n",
        "    x = tf.keras.layers.concatenate(models_outputs)\n",
        "\n",
        "    if param['arc_type'] == 1:\n",
        "        map_shape = x.get_shape()\n",
        "        model_cat = tf.keras.Sequential()\n",
        "        model_cat.add(tf.keras.Input(shape=10))\n",
        "        model_cat.add(layers.Lambda(condition))\n",
        "        model_cat.add(layers.Dense(np.prod(map_shape[1:])))\n",
        "        model_cat.add(layers.Reshape(map_shape[1:]))\n",
        "        x = layers.Add()([x,model_cat.output])\n",
        "    \n",
        "    for layer in range(5):\n",
        "        x = layers.Conv3DTranspose(2**layer*n_chan, (3, 3, 3), strides=(1, 1, 1), padding='same', kernel_initializer=initializer(n_chan), use_bias=False)(x)\n",
        "        x = layers.ReLU()(x)\n",
        "        x = layers.Conv3DTranspose(2**layer*n_chan, (3, 3, 3), strides=(1, 1, 1), padding='same', kernel_initializer=initializer(n_chan), use_bias=False)(x)\n",
        "        x = layers.BatchNormalization()(x)\n",
        "        x = layers.ReLU()(x)\n",
        "        x = layers.MaxPooling3D(pool_size=(2, 2, 2), strides=(2, 2, 2), padding='same')(x)\n",
        "    \n",
        "    concat_layer_shape = x.get_shape()# model.layers\n",
        "    if param['arc_type'] == 1:\n",
        "        x = layers.Reshape((np.prod(concat_layer_shape[1:4])*(concat_layer_shape[-1]),))(x)\n",
        "        x = layers.Dense(640, activation=\"relu\")(x) # try activation=\"softplus\"\n",
        "        x = layers.Dense(100, activation=\"relu\")(x) # try activation=\"softplus\"\n",
        "    elif param['arc_type'] == 2:\n",
        "        x = layers.Reshape((np.prod(concat_layer_shape[1:4])*(concat_layer_shape[-1]),))(x)\n",
        "        model = tf.keras.models.Model(inputs=models_inputs, outputs=x)\n",
        "\n",
        "        model_cat = tf.keras.Sequential()\n",
        "        model_cat.add(tf.keras.Input(shape=10))\n",
        "        model_cat.add(layers.Lambda(condition))\n",
        "\n",
        "        y = layers.concatenate([model.output, model_cat.output])\n",
        "        x = layers.Dense(640, activation=\"relu\")(y) # try activation=\"softplus\"\n",
        "        x = layers.Dense(100, activation=\"relu\")(x) # try activation=\"softplus\"\n",
        "    elif param['arc_type'] == 3:\n",
        "        x = layers.Reshape((np.prod(concat_layer_shape[1:4])*(concat_layer_shape[-1]),))(x)\n",
        "        x = layers.Dense(640, activation=\"relu\")(x) # try activation=\"softplus\"\n",
        "        model = tf.keras.models.Model(inputs=models_inputs, outputs=x)\n",
        "\n",
        "        model_cat = tf.keras.Sequential()\n",
        "        model_cat.add(tf.keras.Input(shape=10))\n",
        "        model_cat.add(layers.Lambda(condition))\n",
        "\n",
        "        y = layers.concatenate([model.output, model_cat.output])\n",
        "        x = layers.Dense(100, activation=\"relu\")(y) # try activation=\"softplus\"\n",
        "    elif param['arc_type'] == 4:\n",
        "        x = layers.Reshape((np.prod(concat_layer_shape[1:4])*(concat_layer_shape[-1]),))(x)\n",
        "        x = layers.Dense(640, activation=\"relu\")(x) # try activation=\"softplus\"\n",
        "        x = layers.Dense(100, activation=\"relu\")(x) # try activation=\"softplus\"\n",
        "        model = tf.keras.models.Model(inputs=models_inputs, outputs=x)\n",
        "\n",
        "        model_cat = tf.keras.Sequential()\n",
        "        model_cat.add(tf.keras.Input(shape=10))\n",
        "        model_cat.add(layers.Lambda(condition))\n",
        "\n",
        "        x = tf.keras.layers.concatenate([model.output, model_cat.output])\n",
        "    else:\n",
        "        raise Exception('Architecture type selected is undefined')\n",
        "\n",
        "    x = layers.Dense(1, activation=\"linear\")(x)\n",
        "    models_inputs.append(model_cat.input) \n",
        "    final_model = tf.keras.models.Model(inputs=models_inputs, outputs=x)\n",
        "    final_model.compile(\n",
        "    optimizer = tf.keras.optimizers.Adam(learning_rate=param['lr'], beta_1=0.9, \n",
        "                                        beta_2=0.999, epsilon=1e-07, amsgrad=False,\n",
        "                                        name='Adam'), \n",
        "    loss = tf.keras.losses.MeanAbsoluteError(),\n",
        "    metrics=[tf.keras.metrics.RootMeanSquaredError(), \n",
        "            tf.keras.metrics.MeanAbsoluteError()])\n",
        "    return final_model\n",
        "\n",
        "param = dict()\n",
        "param['cat_input_type'] = 'sex'\n",
        "param['arc_type'] = 1\n",
        "param['lr'] = 5e-5\n",
        "param['n_maps'] = 2\n",
        "model=make_model(param)\n",
        "plot_model(model, to_file='model_plot.png', show_shapes=True, show_layer_names=True)"
      ],
      "execution_count": null,
      "outputs": []
    },
    {
      "cell_type": "code",
      "metadata": {
        "colab": {
          "base_uri": "https://localhost:8080/"
        },
        "id": "bLoDnONPXoxY",
        "outputId": "f26b88c9-ebd0-410f-abff-b5bfa721b205"
      },
      "source": [
        "def seed_everything(seed=1234):\n",
        "    random.seed(seed)\n",
        "    os.environ['PYTHONHASHSEED'] = str(seed)\n",
        "    np.random.seed(seed)\n",
        "    tf.random.set_seed(seed)\n",
        "    \n",
        "folder_path_input_volume = 'volume_maps/'\n",
        "folder_path_input_stiffness = 'stiffness_maps/'\n",
        "folder_path_labels = ''\n",
        "\n",
        "print('Loading stiffness maps training instances')\n",
        "X_train_stf, X_train_sex, X_train_study, y_train, m_train = read_files(folder_path_input_stiffness, folder_path_labels, train_id)\n",
        "print('Loading stiffness maps validation instances')\n",
        "X_val_stf, X_val_sex, X_val_study, y_val, m_val = read_files(folder_path_input_stiffness, folder_path_labels, val_id)\n",
        "print('Loading stiffness maps test instances')\n",
        "X_test_stf, X_test_sex, X_test_study, y_test, m_test = read_files(folder_path_input_stiffness, folder_path_labels, test_id)\n",
        "\n",
        "print('Loading volume maps training instances')\n",
        "X_train_vol = read_files(folder_path_input_volume, folder_path_labels, train_id, only_map=True)\n",
        "print('Loading volume maps validation instances')\n",
        "X_val_vol = read_files(folder_path_input_volume, folder_path_labels, val_id, only_map=True)\n",
        "print('Loading volume maps test instances')\n",
        "X_test_vol = read_files(folder_path_input_volume, folder_path_labels, test_id, only_map=True)\n",
        "\n",
        "# One hot encoding for categorical variables\n",
        "# define one hot encoding\n",
        "encoder = OneHotEncoder(sparse=False)\n",
        "# transform categorical variables\n",
        "X_train_sex = encoder.fit_transform(X_train_sex.reshape(-1,1))\n",
        "X_val_sex = encoder.fit_transform(X_val_sex.reshape(-1,1))\n",
        "X_test_sex = encoder.fit_transform(X_test_sex.reshape(-1,1))\n",
        "X_train_study = encoder.fit_transform(X_train_study.reshape(-1,1))\n",
        "X_val_study = encoder.fit_transform(X_val_study.reshape(-1,1))\n",
        "X_test_study = encoder.fit_transform(X_test_study.reshape(-1,1))\n",
        "\n",
        "# Merge train and validation sets\n",
        "X_train_stf = np.concatenate((X_train_stf, X_val_stf), axis=0)\n",
        "X_train_vol = np.concatenate((X_train_vol, X_val_vol), axis=0)\n",
        "X_train_sex = np.concatenate((X_train_sex, X_val_sex), axis=0)\n",
        "X_train_study = np.concatenate((X_train_study, X_val_study), axis=0)\n",
        "y_train = np.concatenate((y_train, y_val), axis=0)"
      ],
      "execution_count": 47,
      "outputs": [
        {
          "output_type": "stream",
          "name": "stdout",
          "text": [
            "Loading stiffness maps training instances\n",
            "Longest common prefix : Stiffness_\n",
            "Longest common suffix : .nii\n",
            "Loading stiffness maps validation instances\n",
            "Longest common prefix : Stiffness_\n",
            "Longest common suffix : .nii\n",
            "Loading stiffness maps test instances\n",
            "Longest common prefix : Stiffness_\n",
            "Longest common suffix : .nii\n",
            "Loading volume maps training instances\n",
            "Longest common prefix : MPRAGE_\n",
            "Longest common suffix : _struc_GM_to_T.nii\n",
            "Loading volume maps validation instances\n",
            "Longest common prefix : MPRAGE_\n",
            "Longest common suffix : _struc_GM_to_T.nii\n",
            "Loading volume maps test instances\n",
            "Longest common prefix : MPRAGE_\n",
            "Longest common suffix : _struc_GM_to_T.nii\n"
          ]
        }
      ]
    },
    {
      "cell_type": "code",
      "metadata": {
        "colab": {
          "base_uri": "https://localhost:8080/"
        },
        "id": "KRaXZZPo87WG",
        "outputId": "8a5c5715-d06d-40e6-adc5-7ab1767fc0d6"
      },
      "source": [
        "seed = 12345\n",
        "PREPROC_TYPE = 'std'\n",
        "X_train_stf_pp, X_test_stf_pp = preprocess(X_train_stf, X_test_stf, preproc_type=PREPROC_TYPE)\n",
        "X_train_vol_pp, X_test_vol_pp = preprocess(X_train_vol, X_test_vol, preproc_type=PREPROC_TYPE)\n",
        "# Hyperparameter Grid\n",
        "param_grid = {\n",
        "    # 'arc_type' : [1],\n",
        "    'arc_type' : [1, 2, 3, 4],\n",
        "    # 'lr' : [5e-5],\n",
        "    # 'lr' : stats.uniform(1e-4, 0.1),\n",
        "    'lr' : [1e-2, 1e-3, 1e-4, 1e-5],\n",
        "    # 'batch_size' : [4],\n",
        "    'batch_size' : [4, 12, 20, 28],\n",
        "    'epochs' : [40],\n",
        "    # 'epochs' : [20, 30, 40],\n",
        "    'cat_input_type': ['None', 'sex', 'study', 'sex_study'],\n",
        "    # 'cat_input_type': ['sex_study']\n",
        "    'n_maps' : [2]\n",
        "}\n",
        "# Define model\n",
        "# wrap our model into a scikit-learn compatible classifier\n",
        "print(\"[INFO] initializing model...\")\n",
        "seed_everything(seed)\n",
        "cv = KFold(n_splits=5, random_state=seed, shuffle=True)\n",
        "krs = KerasRandomSearchCV(make_model, param_grid, cv=cv, monitor='val_loss', greater_is_better=False,\n",
        "                          n_iter=1, sampling_seed=seed)\n"
      ],
      "execution_count": 48,
      "outputs": [
        {
          "output_type": "stream",
          "name": "stdout",
          "text": [
            "[INFO] initializing model...\n"
          ]
        }
      ]
    },
    {
      "cell_type": "code",
      "metadata": {
        "colab": {
          "base_uri": "https://localhost:8080/"
        },
        "id": "AOqm_qxAFvEG",
        "outputId": "32fc89de-d882-484b-d7e8-f5bdfdee9341"
      },
      "source": [
        "X_train_cat = np.concatenate((X_train_sex,X_train_study), axis=1)\n",
        "print(\"[INFO] performing random search...\")\n",
        "seed_everything(seed)\n",
        "trainData = [X_train_stf_pp, X_train_vol_pp, X_train_cat]\n",
        "trainTarget = y_train\n",
        "krs.search(trainData, trainTarget)"
      ],
      "execution_count": 49,
      "outputs": [
        {
          "output_type": "stream",
          "name": "stdout",
          "text": [
            "[INFO] performing random search...\n",
            "\n",
            "##################\n",
            "###  Fold 001  ###\n",
            "##################\n",
            "\n",
            "1 trials detected for ('arc_type', 'lr', 'batch_size', 'epochs', 'cat_input_type', 'n_maps')\n",
            "\n",
            "***** (1/1) *****\n",
            "Search({'arc_type': 4, 'lr': 0.01, 'batch_size': 12, 'epochs': 40, 'cat_input_type': 'sex_study', 'n_maps': 2})\n",
            "SCORE: 86.00097 at epoch 27\n",
            "\n",
            "##################\n",
            "###  Fold 002  ###\n",
            "##################\n",
            "\n",
            "1 trials detected for ('arc_type', 'lr', 'batch_size', 'epochs', 'cat_input_type', 'n_maps')\n",
            "\n",
            "***** (1/1) *****\n",
            "Search({'arc_type': 4, 'lr': 0.01, 'batch_size': 12, 'epochs': 40, 'cat_input_type': 'sex_study', 'n_maps': 2})\n",
            "SCORE: 67.12471 at epoch 39\n",
            "\n",
            "##################\n",
            "###  Fold 003  ###\n",
            "##################\n",
            "\n",
            "1 trials detected for ('arc_type', 'lr', 'batch_size', 'epochs', 'cat_input_type', 'n_maps')\n",
            "\n",
            "***** (1/1) *****\n",
            "Search({'arc_type': 4, 'lr': 0.01, 'batch_size': 12, 'epochs': 40, 'cat_input_type': 'sex_study', 'n_maps': 2})\n",
            "SCORE: 38.61472 at epoch 18\n",
            "\n",
            "##################\n",
            "###  Fold 004  ###\n",
            "##################\n",
            "\n",
            "1 trials detected for ('arc_type', 'lr', 'batch_size', 'epochs', 'cat_input_type', 'n_maps')\n",
            "\n",
            "***** (1/1) *****\n",
            "Search({'arc_type': 4, 'lr': 0.01, 'batch_size': 12, 'epochs': 40, 'cat_input_type': 'sex_study', 'n_maps': 2})\n",
            "SCORE: 61.14596 at epoch 39\n",
            "\n",
            "##################\n",
            "###  Fold 005  ###\n",
            "##################\n",
            "\n",
            "1 trials detected for ('arc_type', 'lr', 'batch_size', 'epochs', 'cat_input_type', 'n_maps')\n",
            "\n",
            "***** (1/1) *****\n",
            "Search({'arc_type': 4, 'lr': 0.01, 'batch_size': 12, 'epochs': 40, 'cat_input_type': 'sex_study', 'n_maps': 2})\n",
            "SCORE: 72.61463 at epoch 36\n"
          ]
        },
        {
          "output_type": "execute_result",
          "data": {
            "text/plain": [
              "<kerashypetune.KerasRandomSearchCV>"
            ]
          },
          "metadata": {},
          "execution_count": 49
        }
      ]
    },
    {
      "cell_type": "code",
      "metadata": {
        "colab": {
          "base_uri": "https://localhost:8080/",
          "height": 173
        },
        "id": "FsYdPLYrmX6a",
        "outputId": "8ce2ed02-842e-4996-c06b-0c45ff56d804"
      },
      "source": [
        "pd.DataFrame(krs.best_params)"
      ],
      "execution_count": null,
      "outputs": [
        {
          "data": {
            "text/html": [
              "<div>\n",
              "<style scoped>\n",
              "    .dataframe tbody tr th:only-of-type {\n",
              "        vertical-align: middle;\n",
              "    }\n",
              "\n",
              "    .dataframe tbody tr th {\n",
              "        vertical-align: top;\n",
              "    }\n",
              "\n",
              "    .dataframe thead th {\n",
              "        text-align: right;\n",
              "    }\n",
              "</style>\n",
              "<table border=\"1\" class=\"dataframe\">\n",
              "  <thead>\n",
              "    <tr style=\"text-align: right;\">\n",
              "      <th></th>\n",
              "      <th>arc_type</th>\n",
              "      <th>lr</th>\n",
              "      <th>batch_size</th>\n",
              "      <th>epochs</th>\n",
              "      <th>cat_input_type</th>\n",
              "      <th>steps_per_epoch</th>\n",
              "    </tr>\n",
              "  </thead>\n",
              "  <tbody>\n",
              "    <tr>\n",
              "      <th>0</th>\n",
              "      <td>1</td>\n",
              "      <td>0.00005</td>\n",
              "      <td>4</td>\n",
              "      <td>17</td>\n",
              "      <td>sex_study</td>\n",
              "      <td>43</td>\n",
              "    </tr>\n",
              "    <tr>\n",
              "      <th>1</th>\n",
              "      <td>1</td>\n",
              "      <td>0.00005</td>\n",
              "      <td>4</td>\n",
              "      <td>11</td>\n",
              "      <td>sex_study</td>\n",
              "      <td>43</td>\n",
              "    </tr>\n",
              "    <tr>\n",
              "      <th>2</th>\n",
              "      <td>1</td>\n",
              "      <td>0.00005</td>\n",
              "      <td>4</td>\n",
              "      <td>19</td>\n",
              "      <td>sex_study</td>\n",
              "      <td>43</td>\n",
              "    </tr>\n",
              "    <tr>\n",
              "      <th>3</th>\n",
              "      <td>1</td>\n",
              "      <td>0.00005</td>\n",
              "      <td>4</td>\n",
              "      <td>19</td>\n",
              "      <td>sex_study</td>\n",
              "      <td>43</td>\n",
              "    </tr>\n",
              "  </tbody>\n",
              "</table>\n",
              "</div>"
            ],
            "text/plain": [
              "   arc_type       lr  batch_size  epochs cat_input_type  steps_per_epoch\n",
              "0         1  0.00005           4      17      sex_study               43\n",
              "1         1  0.00005           4      11      sex_study               43\n",
              "2         1  0.00005           4      19      sex_study               43\n",
              "3         1  0.00005           4      19      sex_study               43"
            ]
          },
          "execution_count": 22,
          "metadata": {},
          "output_type": "execute_result"
        }
      ]
    },
    {
      "cell_type": "code",
      "metadata": {
        "colab": {
          "base_uri": "https://localhost:8080/",
          "height": 235
        },
        "id": "XYEvUUhn-1Dx",
        "outputId": "31e16cf0-d4fa-44c7-9b5f-e2d37a4968ed"
      },
      "source": [
        "pd.DataFrame(krs.folds_best_params)"
      ],
      "execution_count": null,
      "outputs": [
        {
          "data": {
            "text/html": [
              "<div>\n",
              "<style scoped>\n",
              "    .dataframe tbody tr th:only-of-type {\n",
              "        vertical-align: middle;\n",
              "    }\n",
              "\n",
              "    .dataframe tbody tr th {\n",
              "        vertical-align: top;\n",
              "    }\n",
              "\n",
              "    .dataframe thead th {\n",
              "        text-align: right;\n",
              "    }\n",
              "</style>\n",
              "<table border=\"1\" class=\"dataframe\">\n",
              "  <thead>\n",
              "    <tr style=\"text-align: right;\">\n",
              "      <th></th>\n",
              "      <th>fold 1</th>\n",
              "      <th>fold 2</th>\n",
              "      <th>fold 3</th>\n",
              "      <th>fold 4</th>\n",
              "    </tr>\n",
              "  </thead>\n",
              "  <tbody>\n",
              "    <tr>\n",
              "      <th>arc_type</th>\n",
              "      <td>1</td>\n",
              "      <td>1</td>\n",
              "      <td>1</td>\n",
              "      <td>1</td>\n",
              "    </tr>\n",
              "    <tr>\n",
              "      <th>lr</th>\n",
              "      <td>5e-05</td>\n",
              "      <td>5e-05</td>\n",
              "      <td>5e-05</td>\n",
              "      <td>5e-05</td>\n",
              "    </tr>\n",
              "    <tr>\n",
              "      <th>batch_size</th>\n",
              "      <td>4</td>\n",
              "      <td>4</td>\n",
              "      <td>4</td>\n",
              "      <td>4</td>\n",
              "    </tr>\n",
              "    <tr>\n",
              "      <th>epochs</th>\n",
              "      <td>17</td>\n",
              "      <td>11</td>\n",
              "      <td>19</td>\n",
              "      <td>19</td>\n",
              "    </tr>\n",
              "    <tr>\n",
              "      <th>cat_input_type</th>\n",
              "      <td>sex_study</td>\n",
              "      <td>sex_study</td>\n",
              "      <td>sex_study</td>\n",
              "      <td>sex_study</td>\n",
              "    </tr>\n",
              "    <tr>\n",
              "      <th>steps_per_epoch</th>\n",
              "      <td>43</td>\n",
              "      <td>43</td>\n",
              "      <td>43</td>\n",
              "      <td>43</td>\n",
              "    </tr>\n",
              "  </tbody>\n",
              "</table>\n",
              "</div>"
            ],
            "text/plain": [
              "                    fold 1     fold 2     fold 3     fold 4\n",
              "arc_type                 1          1          1          1\n",
              "lr                   5e-05      5e-05      5e-05      5e-05\n",
              "batch_size               4          4          4          4\n",
              "epochs                  17         11         19         19\n",
              "cat_input_type   sex_study  sex_study  sex_study  sex_study\n",
              "steps_per_epoch         43         43         43         43"
            ]
          },
          "execution_count": 23,
          "metadata": {},
          "output_type": "execute_result"
        }
      ]
    },
    {
      "cell_type": "code",
      "metadata": {
        "colab": {
          "base_uri": "https://localhost:8080/",
          "height": 80
        },
        "id": "C4WRcOu1XOqu",
        "outputId": "ab2deef1-780a-40bb-b227-c0a707b1b4d0"
      },
      "source": [
        "pd.DataFrame(krs.folds_scores)"
      ],
      "execution_count": null,
      "outputs": [
        {
          "data": {
            "text/html": [
              "<div>\n",
              "<style scoped>\n",
              "    .dataframe tbody tr th:only-of-type {\n",
              "        vertical-align: middle;\n",
              "    }\n",
              "\n",
              "    .dataframe tbody tr th {\n",
              "        vertical-align: top;\n",
              "    }\n",
              "\n",
              "    .dataframe thead th {\n",
              "        text-align: right;\n",
              "    }\n",
              "</style>\n",
              "<table border=\"1\" class=\"dataframe\">\n",
              "  <thead>\n",
              "    <tr style=\"text-align: right;\">\n",
              "      <th></th>\n",
              "      <th>fold 1</th>\n",
              "      <th>fold 2</th>\n",
              "      <th>fold 3</th>\n",
              "      <th>fold 4</th>\n",
              "    </tr>\n",
              "  </thead>\n",
              "  <tbody>\n",
              "    <tr>\n",
              "      <th>0</th>\n",
              "      <td>69.89584</td>\n",
              "      <td>28.81038</td>\n",
              "      <td>60.09507</td>\n",
              "      <td>64.32593</td>\n",
              "    </tr>\n",
              "  </tbody>\n",
              "</table>\n",
              "</div>"
            ],
            "text/plain": [
              "     fold 1    fold 2    fold 3    fold 4\n",
              "0  69.89584  28.81038  60.09507  64.32593"
            ]
          },
          "execution_count": 24,
          "metadata": {},
          "output_type": "execute_result"
        }
      ]
    },
    {
      "cell_type": "code",
      "metadata": {
        "id": "2srD0IReEUlZ"
      },
      "source": [
        ""
      ],
      "execution_count": null,
      "outputs": []
    }
  ]
}