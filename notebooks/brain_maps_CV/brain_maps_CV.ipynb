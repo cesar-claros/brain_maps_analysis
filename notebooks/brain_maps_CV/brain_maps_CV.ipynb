{
  "nbformat": 4,
  "nbformat_minor": 0,
  "metadata": {
    "accelerator": "GPU",
    "colab": {
      "name": "brain_maps_CV.ipynb",
      "provenance": [],
      "collapsed_sections": [],
      "include_colab_link": true
    },
    "kernelspec": {
      "display_name": "Python 3",
      "name": "python3"
    },
    "language_info": {
      "name": "python"
    }
  },
  "cells": [
    {
      "cell_type": "markdown",
      "metadata": {
        "id": "view-in-github",
        "colab_type": "text"
      },
      "source": [
        "<a href=\"https://colab.research.google.com/github/cesar-claros/brain_maps_analysis/blob/master/website/docs/notebooks/brain_maps_CV.ipynb\" target=\"_parent\"><img src=\"https://colab.research.google.com/assets/colab-badge.svg\" alt=\"Open In Colab\"/></a>"
      ]
    },
    {
      "cell_type": "code",
      "metadata": {
        "colab": {
          "base_uri": "https://localhost:8080/"
        },
        "id": "wWTOAL5x5SP2",
        "outputId": "b8192b2f-58e8-49f2-9a83-da2e4f35dbdb"
      },
      "source": [
        "from google.colab import drive\n",
        "drive.mount('/content/drive/')"
      ],
      "execution_count": 1,
      "outputs": [
        {
          "output_type": "stream",
          "name": "stdout",
          "text": [
            "Mounted at /content/drive/\n"
          ]
        }
      ]
    },
    {
      "cell_type": "code",
      "metadata": {
        "id": "domk3uP06BIV"
      },
      "source": [
        "!mkdir volume_maps/\n",
        "!mkdir stiffness_maps/\n",
        "!mkdir splits/\n",
        "!cp -r drive/Shareddrives/'Brain Voxels'/'Final Data Used for Paper'/Volume_FINAL/. volume_maps/\n",
        "!cp -r drive/Shareddrives/'Brain Voxels'/'Final Data Used for Paper'/Stiffness_FINAL/. stiffness_maps/\n",
        "!cp -r drive/Shareddrives/'Brain Voxels'/splits/. splits/\n",
        "!cp -r drive/Shareddrives/'Brain Voxels'/labels_final.csv ."
      ],
      "execution_count": 2,
      "outputs": []
    },
    {
      "cell_type": "code",
      "metadata": {
        "colab": {
          "base_uri": "https://localhost:8080/"
        },
        "id": "mtcB_EZwAeV6",
        "outputId": "ee3ee889-7e1c-42f4-8f98-fa2182516fc6"
      },
      "source": [
        "!pip install keras-hypetune"
      ],
      "execution_count": 3,
      "outputs": [
        {
          "output_type": "stream",
          "name": "stdout",
          "text": [
            "Collecting keras-hypetune\n",
            "  Downloading keras_hypetune-0.1.3-py3-none-any.whl (10 kB)\n",
            "Requirement already satisfied: numpy in /usr/local/lib/python3.7/dist-packages (from keras-hypetune) (1.19.5)\n",
            "Installing collected packages: keras-hypetune\n",
            "Successfully installed keras-hypetune-0.1.3\n"
          ]
        }
      ]
    },
    {
      "cell_type": "code",
      "metadata": {
        "colab": {
          "base_uri": "https://localhost:8080/"
        },
        "id": "P26i-EBcKBMI",
        "outputId": "42d3f354-64b4-464f-863f-cb014eb20f28"
      },
      "source": [
        "! git clone https://github.com/cesar-claros/brain_maps_analysis\n",
        "% cd brain_maps_analysis/src/utils/"
      ],
      "execution_count": 5,
      "outputs": [
        {
          "output_type": "stream",
          "name": "stdout",
          "text": [
            "/content/brain_maps_analysis/src/utils\n"
          ]
        }
      ]
    },
    {
      "cell_type": "code",
      "metadata": {
        "id": "uwIQ8rVcGzBy"
      },
      "source": [
        "# Functions definitions\n",
        "import utils\n",
        "import preprocessing\n",
        "import model\n",
        "# Libraries\n",
        "import os\n",
        "import sklearn\n",
        "import pandas as pd\n",
        "import nibabel as nib\n",
        "import numpy as np\n",
        "import matplotlib.pyplot as plt\n",
        "import tensorflow as tf\n",
        "from sklearn.model_selection import KFold\n",
        "from sklearn.preprocessing import OneHotEncoder\n",
        "from kerashypetune import KerasRandomSearchCV"
      ],
      "execution_count": 7,
      "outputs": []
    },
    {
      "cell_type": "code",
      "metadata": {
        "colab": {
          "base_uri": "https://localhost:8080/"
        },
        "id": "ZLzWJ2cDbgLC",
        "outputId": "8ec83d3b-5fbd-4136-b2f4-cfa447dcd5c4"
      },
      "source": [
        "tf.config.list_physical_devices('GPU')"
      ],
      "execution_count": 8,
      "outputs": [
        {
          "output_type": "execute_result",
          "data": {
            "text/plain": [
              "[PhysicalDevice(name='/physical_device:GPU:0', device_type='GPU')]"
            ]
          },
          "metadata": {},
          "execution_count": 8
        }
      ]
    },
    {
      "cell_type": "code",
      "metadata": {
        "id": "_wbtsm9A9SS0"
      },
      "source": [
        "train_id = pd.read_csv('../../../splits/train_split.csv', delimiter=',', header=None).to_numpy().squeeze()\n",
        "val_id = pd.read_csv('../../../splits/val_split.csv', delimiter=',', header=None).to_numpy().squeeze()\n",
        "test_id = pd.read_csv('../../../splits/test_split.csv', delimiter=',', header=None).to_numpy().squeeze()"
      ],
      "execution_count": 12,
      "outputs": []
    },
    {
      "cell_type": "code",
      "metadata": {
        "colab": {
          "base_uri": "https://localhost:8080/"
        },
        "id": "bLoDnONPXoxY",
        "outputId": "8b4828a9-57af-41bc-825b-dec5a527e27a"
      },
      "source": [
        "folder_path_input_volume = '../../../volume_maps/'\n",
        "folder_path_input_stiffness = '../../../stiffness_maps/'\n",
        "folder_path_labels = '../../../'\n",
        "\n",
        "print('Loading stiffness maps training instances')\n",
        "X_train_stf, X_train_sex, X_train_study, y_train, m_train = utils.read_files(folder_path_input_stiffness, folder_path_labels, train_id)\n",
        "print('Loading stiffness maps validation instances')\n",
        "X_val_stf, X_val_sex, X_val_study, y_val, m_val = utils.read_files(folder_path_input_stiffness, folder_path_labels, val_id)\n",
        "print('Loading stiffness maps test instances')\n",
        "X_test_stf, X_test_sex, X_test_study, y_test, m_test = utils.read_files(folder_path_input_stiffness, folder_path_labels, test_id)\n",
        "\n",
        "print('Loading volume maps training instances')\n",
        "X_train_vol = utils.read_files(folder_path_input_volume, folder_path_labels, train_id, only_map=True)\n",
        "print('Loading volume maps validation instances')\n",
        "X_val_vol = utils.read_files(folder_path_input_volume, folder_path_labels, val_id, only_map=True)\n",
        "print('Loading volume maps test instances')\n",
        "X_test_vol = utils.read_files(folder_path_input_volume, folder_path_labels, test_id, only_map=True)\n",
        "\n",
        "# One hot encoding for categorical variables\n",
        "# define one hot encoding\n",
        "encoder = OneHotEncoder(sparse=False)\n",
        "# transform categorical variables\n",
        "X_train_sex = encoder.fit_transform(X_train_sex.reshape(-1,1))\n",
        "X_val_sex = encoder.fit_transform(X_val_sex.reshape(-1,1))\n",
        "X_test_sex = encoder.fit_transform(X_test_sex.reshape(-1,1))\n",
        "X_train_study = encoder.fit_transform(X_train_study.reshape(-1,1))\n",
        "X_val_study = encoder.fit_transform(X_val_study.reshape(-1,1))\n",
        "X_test_study = encoder.fit_transform(X_test_study.reshape(-1,1))\n",
        "\n",
        "# Merge train and validation sets\n",
        "X_train_stf = np.concatenate((X_train_stf, X_val_stf), axis=0)\n",
        "X_train_vol = np.concatenate((X_train_vol, X_val_vol), axis=0)\n",
        "X_train_sex = np.concatenate((X_train_sex, X_val_sex), axis=0)\n",
        "X_train_study = np.concatenate((X_train_study, X_val_study), axis=0)\n",
        "y_train = np.concatenate((y_train, y_val), axis=0)"
      ],
      "execution_count": 17,
      "outputs": [
        {
          "output_type": "stream",
          "name": "stdout",
          "text": [
            "Loading stiffness maps training instances\n",
            "Longest common prefix : Stiffness_\n",
            "Longest common suffix : .nii\n",
            "Loading stiffness maps validation instances\n",
            "Longest common prefix : Stiffness_\n",
            "Longest common suffix : .nii\n",
            "Loading stiffness maps test instances\n",
            "Longest common prefix : Stiffness_\n",
            "Longest common suffix : .nii\n",
            "Loading volume maps training instances\n",
            "Longest common prefix : MPRAGE_\n",
            "Longest common suffix : _struc_GM_to_T.nii\n",
            "Loading volume maps validation instances\n",
            "Longest common prefix : MPRAGE_\n",
            "Longest common suffix : _struc_GM_to_T.nii\n",
            "Loading volume maps test instances\n",
            "Longest common prefix : MPRAGE_\n",
            "Longest common suffix : _struc_GM_to_T.nii\n"
          ]
        }
      ]
    },
    {
      "cell_type": "code",
      "metadata": {
        "colab": {
          "base_uri": "https://localhost:8080/"
        },
        "id": "KRaXZZPo87WG",
        "outputId": "91a44e61-4323-4f63-bfc8-229b3c506faa"
      },
      "source": [
        "seed = 12345\n",
        "PREPROC_TYPE = 'std'\n",
        "X_train_stf_pp, X_test_stf_pp = preprocessing.preprocess(X_train_stf, X_test_stf, preproc_type=PREPROC_TYPE)\n",
        "X_train_vol_pp, X_test_vol_pp = preprocessing.preprocess(X_train_vol, X_test_vol, preproc_type=PREPROC_TYPE)\n",
        "# Hyperparameter Grid\n",
        "param_grid = {\n",
        "    # 'arc_type' : [1],\n",
        "    'arc_type' : [1, 2, 3, 4],\n",
        "    # 'lr' : [5e-5],\n",
        "    # 'lr' : stats.uniform(1e-4, 0.1),\n",
        "    'lr' : [1e-2, 1e-3, 1e-4, 1e-5],\n",
        "    # 'batch_size' : [4],\n",
        "    'batch_size' : [4, 12, 20, 28],\n",
        "    'epochs' : [40],\n",
        "    # 'epochs' : [20, 30, 40],\n",
        "    'cat_input_type': ['None', 'sex', 'study', 'sex_study'],\n",
        "    # 'cat_input_type': ['sex_study']\n",
        "    'n_maps' : [2]\n",
        "}\n",
        "# Define model\n",
        "# wrap our model into a scikit-learn compatible classifier\n",
        "print(\"[INFO] initializing model...\")\n",
        "utils.seed_everything(seed)\n",
        "cv = KFold(n_splits=5, random_state=seed, shuffle=True)\n",
        "krs = KerasRandomSearchCV(model.make_model, param_grid, cv=cv, monitor='val_loss', greater_is_better=False,\n",
        "                          n_iter=1, sampling_seed=seed)\n"
      ],
      "execution_count": 21,
      "outputs": [
        {
          "output_type": "stream",
          "name": "stdout",
          "text": [
            "[INFO] initializing model...\n"
          ]
        }
      ]
    },
    {
      "cell_type": "code",
      "metadata": {
        "colab": {
          "base_uri": "https://localhost:8080/"
        },
        "id": "AOqm_qxAFvEG",
        "outputId": "85a03496-57d0-425e-94b2-bc3c01cf320b"
      },
      "source": [
        "X_train_cat = np.concatenate((X_train_sex,X_train_study), axis=1)\n",
        "print(\"[INFO] performing random search...\")\n",
        "utils.seed_everything(seed)\n",
        "trainData = [X_train_stf_pp, X_train_vol_pp, X_train_cat]\n",
        "trainTarget = y_train\n",
        "krs.search(trainData, trainTarget)"
      ],
      "execution_count": 22,
      "outputs": [
        {
          "output_type": "stream",
          "name": "stdout",
          "text": [
            "[INFO] performing random search...\n",
            "\n",
            "##################\n",
            "###  Fold 001  ###\n",
            "##################\n",
            "\n",
            "1 trials detected for ('arc_type', 'lr', 'batch_size', 'epochs', 'cat_input_type', 'n_maps')\n",
            "\n",
            "***** (1/1) *****\n",
            "Search({'arc_type': 4, 'lr': 0.01, 'batch_size': 12, 'epochs': 40, 'cat_input_type': 'None', 'n_maps': 2})\n",
            "SCORE: 5.94333 at epoch 36\n",
            "\n",
            "##################\n",
            "###  Fold 002  ###\n",
            "##################\n",
            "\n",
            "1 trials detected for ('arc_type', 'lr', 'batch_size', 'epochs', 'cat_input_type', 'n_maps')\n",
            "\n",
            "***** (1/1) *****\n",
            "Search({'arc_type': 4, 'lr': 0.01, 'batch_size': 12, 'epochs': 40, 'cat_input_type': 'None', 'n_maps': 2})\n",
            "SCORE: 5.16087 at epoch 40\n",
            "\n",
            "##################\n",
            "###  Fold 003  ###\n",
            "##################\n",
            "\n",
            "1 trials detected for ('arc_type', 'lr', 'batch_size', 'epochs', 'cat_input_type', 'n_maps')\n",
            "\n",
            "***** (1/1) *****\n",
            "Search({'arc_type': 4, 'lr': 0.01, 'batch_size': 12, 'epochs': 40, 'cat_input_type': 'None', 'n_maps': 2})\n",
            "SCORE: 5.25177 at epoch 36\n",
            "\n",
            "##################\n",
            "###  Fold 004  ###\n",
            "##################\n",
            "\n",
            "1 trials detected for ('arc_type', 'lr', 'batch_size', 'epochs', 'cat_input_type', 'n_maps')\n",
            "\n",
            "***** (1/1) *****\n",
            "Search({'arc_type': 4, 'lr': 0.01, 'batch_size': 12, 'epochs': 40, 'cat_input_type': 'None', 'n_maps': 2})\n",
            "SCORE: 7.50409 at epoch 37\n",
            "\n",
            "##################\n",
            "###  Fold 005  ###\n",
            "##################\n",
            "\n",
            "1 trials detected for ('arc_type', 'lr', 'batch_size', 'epochs', 'cat_input_type', 'n_maps')\n",
            "\n",
            "***** (1/1) *****\n",
            "Search({'arc_type': 4, 'lr': 0.01, 'batch_size': 12, 'epochs': 40, 'cat_input_type': 'None', 'n_maps': 2})\n",
            "SCORE: 7.22326 at epoch 33\n"
          ]
        },
        {
          "output_type": "execute_result",
          "data": {
            "text/plain": [
              "<kerashypetune.KerasRandomSearchCV>"
            ]
          },
          "metadata": {},
          "execution_count": 22
        }
      ]
    },
    {
      "cell_type": "code",
      "metadata": {
        "colab": {
          "base_uri": "https://localhost:8080/",
          "height": 204
        },
        "id": "FsYdPLYrmX6a",
        "outputId": "f01e7d39-7cf2-45fb-b06f-9733f03b2219"
      },
      "source": [
        "pd.DataFrame(krs.best_params)"
      ],
      "execution_count": 23,
      "outputs": [
        {
          "output_type": "execute_result",
          "data": {
            "text/html": [
              "<div>\n",
              "<style scoped>\n",
              "    .dataframe tbody tr th:only-of-type {\n",
              "        vertical-align: middle;\n",
              "    }\n",
              "\n",
              "    .dataframe tbody tr th {\n",
              "        vertical-align: top;\n",
              "    }\n",
              "\n",
              "    .dataframe thead th {\n",
              "        text-align: right;\n",
              "    }\n",
              "</style>\n",
              "<table border=\"1\" class=\"dataframe\">\n",
              "  <thead>\n",
              "    <tr style=\"text-align: right;\">\n",
              "      <th></th>\n",
              "      <th>arc_type</th>\n",
              "      <th>lr</th>\n",
              "      <th>batch_size</th>\n",
              "      <th>epochs</th>\n",
              "      <th>cat_input_type</th>\n",
              "      <th>n_maps</th>\n",
              "      <th>steps_per_epoch</th>\n",
              "    </tr>\n",
              "  </thead>\n",
              "  <tbody>\n",
              "    <tr>\n",
              "      <th>0</th>\n",
              "      <td>4</td>\n",
              "      <td>0.01</td>\n",
              "      <td>12</td>\n",
              "      <td>36</td>\n",
              "      <td>None</td>\n",
              "      <td>2</td>\n",
              "      <td>15</td>\n",
              "    </tr>\n",
              "    <tr>\n",
              "      <th>1</th>\n",
              "      <td>4</td>\n",
              "      <td>0.01</td>\n",
              "      <td>12</td>\n",
              "      <td>40</td>\n",
              "      <td>None</td>\n",
              "      <td>2</td>\n",
              "      <td>15</td>\n",
              "    </tr>\n",
              "    <tr>\n",
              "      <th>2</th>\n",
              "      <td>4</td>\n",
              "      <td>0.01</td>\n",
              "      <td>12</td>\n",
              "      <td>36</td>\n",
              "      <td>None</td>\n",
              "      <td>2</td>\n",
              "      <td>15</td>\n",
              "    </tr>\n",
              "    <tr>\n",
              "      <th>3</th>\n",
              "      <td>4</td>\n",
              "      <td>0.01</td>\n",
              "      <td>12</td>\n",
              "      <td>37</td>\n",
              "      <td>None</td>\n",
              "      <td>2</td>\n",
              "      <td>15</td>\n",
              "    </tr>\n",
              "    <tr>\n",
              "      <th>4</th>\n",
              "      <td>4</td>\n",
              "      <td>0.01</td>\n",
              "      <td>12</td>\n",
              "      <td>33</td>\n",
              "      <td>None</td>\n",
              "      <td>2</td>\n",
              "      <td>15</td>\n",
              "    </tr>\n",
              "  </tbody>\n",
              "</table>\n",
              "</div>"
            ],
            "text/plain": [
              "   arc_type    lr  batch_size  epochs cat_input_type  n_maps  steps_per_epoch\n",
              "0         4  0.01          12      36           None       2               15\n",
              "1         4  0.01          12      40           None       2               15\n",
              "2         4  0.01          12      36           None       2               15\n",
              "3         4  0.01          12      37           None       2               15\n",
              "4         4  0.01          12      33           None       2               15"
            ]
          },
          "metadata": {},
          "execution_count": 23
        }
      ]
    },
    {
      "cell_type": "code",
      "metadata": {
        "colab": {
          "base_uri": "https://localhost:8080/",
          "height": 266
        },
        "id": "XYEvUUhn-1Dx",
        "outputId": "2f4610cb-e582-40c2-c63d-bf49b892e59c"
      },
      "source": [
        "pd.DataFrame(krs.folds_best_params)"
      ],
      "execution_count": 24,
      "outputs": [
        {
          "output_type": "execute_result",
          "data": {
            "text/html": [
              "<div>\n",
              "<style scoped>\n",
              "    .dataframe tbody tr th:only-of-type {\n",
              "        vertical-align: middle;\n",
              "    }\n",
              "\n",
              "    .dataframe tbody tr th {\n",
              "        vertical-align: top;\n",
              "    }\n",
              "\n",
              "    .dataframe thead th {\n",
              "        text-align: right;\n",
              "    }\n",
              "</style>\n",
              "<table border=\"1\" class=\"dataframe\">\n",
              "  <thead>\n",
              "    <tr style=\"text-align: right;\">\n",
              "      <th></th>\n",
              "      <th>fold 1</th>\n",
              "      <th>fold 2</th>\n",
              "      <th>fold 3</th>\n",
              "      <th>fold 4</th>\n",
              "      <th>fold 5</th>\n",
              "    </tr>\n",
              "  </thead>\n",
              "  <tbody>\n",
              "    <tr>\n",
              "      <th>arc_type</th>\n",
              "      <td>4</td>\n",
              "      <td>4</td>\n",
              "      <td>4</td>\n",
              "      <td>4</td>\n",
              "      <td>4</td>\n",
              "    </tr>\n",
              "    <tr>\n",
              "      <th>lr</th>\n",
              "      <td>0.01</td>\n",
              "      <td>0.01</td>\n",
              "      <td>0.01</td>\n",
              "      <td>0.01</td>\n",
              "      <td>0.01</td>\n",
              "    </tr>\n",
              "    <tr>\n",
              "      <th>batch_size</th>\n",
              "      <td>12</td>\n",
              "      <td>12</td>\n",
              "      <td>12</td>\n",
              "      <td>12</td>\n",
              "      <td>12</td>\n",
              "    </tr>\n",
              "    <tr>\n",
              "      <th>epochs</th>\n",
              "      <td>36</td>\n",
              "      <td>40</td>\n",
              "      <td>36</td>\n",
              "      <td>37</td>\n",
              "      <td>33</td>\n",
              "    </tr>\n",
              "    <tr>\n",
              "      <th>cat_input_type</th>\n",
              "      <td>None</td>\n",
              "      <td>None</td>\n",
              "      <td>None</td>\n",
              "      <td>None</td>\n",
              "      <td>None</td>\n",
              "    </tr>\n",
              "    <tr>\n",
              "      <th>n_maps</th>\n",
              "      <td>2</td>\n",
              "      <td>2</td>\n",
              "      <td>2</td>\n",
              "      <td>2</td>\n",
              "      <td>2</td>\n",
              "    </tr>\n",
              "    <tr>\n",
              "      <th>steps_per_epoch</th>\n",
              "      <td>15</td>\n",
              "      <td>15</td>\n",
              "      <td>15</td>\n",
              "      <td>15</td>\n",
              "      <td>15</td>\n",
              "    </tr>\n",
              "  </tbody>\n",
              "</table>\n",
              "</div>"
            ],
            "text/plain": [
              "                fold 1 fold 2 fold 3 fold 4 fold 5\n",
              "arc_type             4      4      4      4      4\n",
              "lr                0.01   0.01   0.01   0.01   0.01\n",
              "batch_size          12     12     12     12     12\n",
              "epochs              36     40     36     37     33\n",
              "cat_input_type    None   None   None   None   None\n",
              "n_maps               2      2      2      2      2\n",
              "steps_per_epoch     15     15     15     15     15"
            ]
          },
          "metadata": {},
          "execution_count": 24
        }
      ]
    },
    {
      "cell_type": "code",
      "metadata": {
        "colab": {
          "base_uri": "https://localhost:8080/",
          "height": 80
        },
        "id": "C4WRcOu1XOqu",
        "outputId": "82302ca2-570f-40cb-ac55-fd7c0a54bf5b"
      },
      "source": [
        "pd.DataFrame(krs.folds_scores)"
      ],
      "execution_count": 25,
      "outputs": [
        {
          "output_type": "execute_result",
          "data": {
            "text/html": [
              "<div>\n",
              "<style scoped>\n",
              "    .dataframe tbody tr th:only-of-type {\n",
              "        vertical-align: middle;\n",
              "    }\n",
              "\n",
              "    .dataframe tbody tr th {\n",
              "        vertical-align: top;\n",
              "    }\n",
              "\n",
              "    .dataframe thead th {\n",
              "        text-align: right;\n",
              "    }\n",
              "</style>\n",
              "<table border=\"1\" class=\"dataframe\">\n",
              "  <thead>\n",
              "    <tr style=\"text-align: right;\">\n",
              "      <th></th>\n",
              "      <th>fold 1</th>\n",
              "      <th>fold 2</th>\n",
              "      <th>fold 3</th>\n",
              "      <th>fold 4</th>\n",
              "      <th>fold 5</th>\n",
              "    </tr>\n",
              "  </thead>\n",
              "  <tbody>\n",
              "    <tr>\n",
              "      <th>0</th>\n",
              "      <td>5.94333</td>\n",
              "      <td>5.16087</td>\n",
              "      <td>5.25177</td>\n",
              "      <td>7.50409</td>\n",
              "      <td>7.22326</td>\n",
              "    </tr>\n",
              "  </tbody>\n",
              "</table>\n",
              "</div>"
            ],
            "text/plain": [
              "    fold 1   fold 2   fold 3   fold 4   fold 5\n",
              "0  5.94333  5.16087  5.25177  7.50409  7.22326"
            ]
          },
          "metadata": {},
          "execution_count": 25
        }
      ]
    },
    {
      "cell_type": "code",
      "metadata": {
        "id": "2srD0IReEUlZ"
      },
      "source": [
        ""
      ],
      "execution_count": null,
      "outputs": []
    }
  ]
}